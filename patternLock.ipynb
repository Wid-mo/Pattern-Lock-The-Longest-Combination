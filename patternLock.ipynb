{
 "cells": [
  {
   "cell_type": "code",
   "execution_count": 26,
   "metadata": {},
   "outputs": [
    {
     "name": "stdout",
     "output_type": "stream",
     "text": [
      "{(0, 1), (-1, -1), (0, 0), (-1, 1), (1, 1), (1, -1), (-1, 0), (1, 0), (0, -1)}\n"
     ]
    }
   ],
   "source": [
    "P = {(x, y) for x in [-1, 0, 1] for y in [-1, 0, 1]}\n",
    "print(P)"
   ]
  },
  {
   "cell_type": "markdown",
   "metadata": {},
   "source": [
    "Print points avaidable from last point in path"
   ]
  },
  {
   "cell_type": "code",
   "execution_count": 27,
   "metadata": {},
   "outputs": [
    {
     "name": "stdout",
     "output_type": "stream",
     "text": [
      "{(0, 1), (-1, -1), (1, 1), (1, -1), (1, 0), (0, -1)}\n"
     ]
    }
   ],
   "source": [
    "path = [(-1, 1), (0, 0), (-1, 0)]\n",
    "\n",
    "def points_avaidable_from_last_in_path(path):\n",
    "    if not path:\n",
    "        return P.copy()\n",
    "\n",
    "    last_in_path = path[-1]\n",
    "    return get_points_avaidable_from_point(last_in_path)\n",
    "\n",
    "def get_points_avaidable_from_point(p1):\n",
    "    points_not_in_path = P - set(path)\n",
    "    return {p2 for p2 in points_not_in_path if not is_point_between(p1, p2)}\n",
    "\n",
    "def is_point_between(p1, p2):\n",
    "    points_not_in_path = P - set(path)\n",
    "    return any({is_point_between_two_points(p3, p1, p2) for p3 in points_not_in_path if p3 != p1 if p3 != p2})\n",
    "\n",
    "def is_point_between_two_points(p3, p1, p2):\n",
    "    return distance(p3, p1) + distance(p3, p2) == distance(p1, p2)\n",
    "\n",
    "def distance(p1, p2):\n",
    "    from math import hypot\n",
    "    return hypot(p1[0] - p2[0], p1[1] - p2[1])\n",
    "\n",
    "\n",
    "print(points_avaidable_from_last_in_path(path))\n",
    "\n"
   ]
  },
  {
   "cell_type": "code",
   "execution_count": 28,
   "metadata": {},
   "outputs": [
    {
     "name": "stdout",
     "output_type": "stream",
     "text": [
      "1.4142135623730951\n"
     ]
    }
   ],
   "source": [
    "path = [(-1, 1), (0,0)]\n",
    "\n",
    "def count_path_length(path):\n",
    "    return sum([distance(p1, p2) for p1, p2 in zip(path[:-1], path[1:])])\n",
    "\n",
    "print(count_path_length(path))"
   ]
  },
  {
   "cell_type": "markdown",
   "metadata": {},
   "source": [
    "Backtracking to find max length  \n",
    "&emsp; and all paths with the longest length"
   ]
  },
  {
   "cell_type": "code",
   "execution_count": 29,
   "metadata": {},
   "outputs": [
    {
     "name": "stdout",
     "output_type": "stream",
     "text": [
      "Length of the longest path: 17.779271744364845\n"
     ]
    }
   ],
   "source": [
    "the_longest_paths = []\n",
    "max_length = 0\n",
    "path = []\n",
    "\n",
    "\n",
    "def DFS():\n",
    "    global max_length\n",
    "    avaidable_points = points_avaidable_from_last_in_path(path)\n",
    "    for choosed_point in avaidable_points:\n",
    "        path.append(choosed_point)\n",
    "        path_length = count_path_length(path)\n",
    "        if path_length >= max_length:\n",
    "            the_longest_paths.append(path.copy())\n",
    "\n",
    "        max_length = max(max_length, path_length)\n",
    "        DFS()\n",
    "        path.pop()\n",
    "\n",
    "\n",
    "DFS()\n",
    "print(f'Length of the longest path: {max_length}')"
   ]
  },
  {
   "cell_type": "markdown",
   "metadata": {},
   "source": [
    "Filter all paths which haven't max_length"
   ]
  },
  {
   "cell_type": "code",
   "execution_count": 30,
   "metadata": {},
   "outputs": [
    {
     "name": "stdout",
     "output_type": "stream",
     "text": [
      "Number of the longest paths: 8\n"
     ]
    }
   ],
   "source": [
    "the_longest_paths = [path for path in the_longest_paths if count_path_length(path) == max_length]\n",
    "print(f'Number of the longest paths: {len(the_longest_paths)}')\n"
   ]
  },
  {
   "cell_type": "markdown",
   "metadata": {},
   "source": [
    "without rotation and flipping there is ONE SOLUTION"
   ]
  },
  {
   "cell_type": "code",
   "execution_count": 31,
   "metadata": {},
   "outputs": [
    {
     "name": "stdout",
     "output_type": "stream",
     "text": [
      "[(0, 0), (-1, -1), (1, 1), (-1, 0), (1, 0), (-1, 1), (1, -1), (0, 1), (0, -1)]\n"
     ]
    }
   ],
   "source": [
    "print(the_longest_paths[0])"
   ]
  },
  {
   "cell_type": "markdown",
   "metadata": {},
   "source": [
    "Yes, there is 1 solution with:\n",
    "+ 4 rotation\n",
    "+ flip"
   ]
  }
 ],
 "metadata": {
  "kernelspec": {
   "display_name": "Python 3.10.8 64-bit",
   "language": "python",
   "name": "python3"
  },
  "language_info": {
   "codemirror_mode": {
    "name": "ipython",
    "version": 3
   },
   "file_extension": ".py",
   "mimetype": "text/x-python",
   "name": "python",
   "nbconvert_exporter": "python",
   "pygments_lexer": "ipython3",
   "version": "3.10.8"
  },
  "orig_nbformat": 4,
  "vscode": {
   "interpreter": {
    "hash": "107d7b120a5b68773a87d4067e673630b35702e55ebab3138143d08b1c4d7cbc"
   }
  }
 },
 "nbformat": 4,
 "nbformat_minor": 2
}
