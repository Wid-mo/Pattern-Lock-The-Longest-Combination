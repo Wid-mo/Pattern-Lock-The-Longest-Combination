{
 "cells": [
  {
   "cell_type": "code",
   "execution_count": 36,
   "metadata": {},
   "outputs": [
    {
     "name": "stdout",
     "output_type": "stream",
     "text": [
      "{(0, 1), (-1, -1), (0, 0), (-1, 1), (1, 1), (1, -1), (-1, 0), (1, 0), (0, -1)}\n"
     ]
    }
   ],
   "source": [
    "P = {(x, y) for x in [-1, 0, 1] for y in [-1, 0, 1]}\n",
    "print(P)"
   ]
  },
  {
   "cell_type": "code",
   "execution_count": 37,
   "metadata": {},
   "outputs": [
    {
     "name": "stdout",
     "output_type": "stream",
     "text": [
      "{(0, 1), (0, 0), (-1, 1), (-1, 0), (1, 0), (0, -1)}\n"
     ]
    }
   ],
   "source": [
    "def distance(p1, p2):\n",
    "    from math import hypot\n",
    "    return hypot(p1[0] - p2[0], p1[1] - p2[1])\n",
    "\n",
    "\n",
    "def is_point_between_two_points(p3, p1, p2):\n",
    "    return distance(p3, p1) + distance(p3, p2) == distance(p1, p2)\n",
    "\n",
    "\n",
    "def get_points_avaidable_from_point(p1):\n",
    "    return {p2 for p2 in P if not is_point_between(p1, p2)}\n",
    "\n",
    "\n",
    "def is_point_between(p1, p2):\n",
    "    return any({is_point_between_two_points(p3, p1, p2)\n",
    "                for p3 in P if p3 != p1 if p3 != p2\n",
    "                })\n",
    "\n",
    "\n",
    "POINTS_AVAIDABLE_FROM_POINT = {\n",
    "    p1: get_points_avaidable_from_point(p1) for p1 in P\n",
    "}\n",
    "print(POINTS_AVAIDABLE_FROM_POINT[(-1, 1)])"
   ]
  },
  {
   "cell_type": "markdown",
   "metadata": {},
   "source": [
    "Example path"
   ]
  },
  {
   "cell_type": "code",
   "execution_count": 38,
   "metadata": {},
   "outputs": [
    {
     "name": "stdout",
     "output_type": "stream",
     "text": [
      "{(0, 1), (1, 0), (-1, 0), (0, -1)}\n",
      "1.4142135623730951\n"
     ]
    }
   ],
   "source": [
    "path = [(0, 0), (-1, 1)]\n",
    "avaidable_points = POINTS_AVAIDABLE_FROM_POINT[path[-1]] - set(path) if path else P.copy()\n",
    "print(avaidable_points)\n",
    "\n",
    "def count_path_distance(path):\n",
    "    return sum([distance(p1, p2) for p1, p2 in zip(path[:-1], path[1:])])\n",
    "\n",
    "\n",
    "print(count_path_distance(path))"
   ]
  },
  {
   "cell_type": "markdown",
   "metadata": {},
   "source": [
    "Backtracking to find the longest length of path and\n",
    "all path with the longest length"
   ]
  },
  {
   "cell_type": "code",
   "execution_count": 39,
   "metadata": {},
   "outputs": [
    {
     "name": "stdout",
     "output_type": "stream",
     "text": [
      "Length of the longest path: 17.066689404871624\n"
     ]
    }
   ],
   "source": [
    "the_longest_paths = []\n",
    "max_length = 0\n",
    "path = []\n",
    "\n",
    "\n",
    "def DFS():\n",
    "    global max_length\n",
    "    avaidable_points = POINTS_AVAIDABLE_FROM_POINT[path[-1]] - set(path) if path else P.copy()\n",
    "    for choosing_point in avaidable_points:\n",
    "        path.append(choosing_point)\n",
    "        path_length = count_path_distance(path)\n",
    "        if path_length >= max_length:\n",
    "            the_longest_paths.append(path.copy())\n",
    "\n",
    "        max_length = max(max_length, path_length)\n",
    "        DFS()\n",
    "        path.pop()\n",
    "\n",
    "\n",
    "DFS()\n",
    "print(f'Length of the longest path: {max_length}')"
   ]
  },
  {
   "cell_type": "markdown",
   "metadata": {},
   "source": [
    "Filter all paths which haven't max_length"
   ]
  },
  {
   "cell_type": "code",
   "execution_count": 40,
   "metadata": {},
   "outputs": [
    {
     "name": "stdout",
     "output_type": "stream",
     "text": [
      "Number of the longest paths: 16\n"
     ]
    }
   ],
   "source": [
    "the_longest_paths = [path for path in the_longest_paths if count_path_distance(path) == max_length]\n",
    "print(f'Number of the longest paths: {len(the_longest_paths)}')\n"
   ]
  },
  {
   "cell_type": "markdown",
   "metadata": {},
   "source": [
    "There is 1-2 unique answers (we don't count rotations and flip).\n",
    "So, check some path"
   ]
  },
  {
   "cell_type": "code",
   "execution_count": 41,
   "metadata": {},
   "outputs": [
    {
     "name": "stdout",
     "output_type": "stream",
     "text": [
      "[(0, 1), (-1, -1), (1, 0), (-1, 1), (0, -1), (1, 1), (-1, 0), (1, -1), (0, 0)]\n"
     ]
    }
   ],
   "source": [
    "print(the_longest_paths[0])"
   ]
  },
  {
   "cell_type": "markdown",
   "metadata": {},
   "source": [
    "Yes, there is 1 solution.\n",
    "+ 4 rotation\n",
    "+ flip\n",
    "+ two directional"
   ]
  }
 ],
 "metadata": {
  "kernelspec": {
   "display_name": "Python 3.10.8 64-bit",
   "language": "python",
   "name": "python3"
  },
  "language_info": {
   "codemirror_mode": {
    "name": "ipython",
    "version": 3
   },
   "file_extension": ".py",
   "mimetype": "text/x-python",
   "name": "python",
   "nbconvert_exporter": "python",
   "pygments_lexer": "ipython3",
   "version": "3.10.8"
  },
  "orig_nbformat": 4,
  "vscode": {
   "interpreter": {
    "hash": "107d7b120a5b68773a87d4067e673630b35702e55ebab3138143d08b1c4d7cbc"
   }
  }
 },
 "nbformat": 4,
 "nbformat_minor": 2
}
