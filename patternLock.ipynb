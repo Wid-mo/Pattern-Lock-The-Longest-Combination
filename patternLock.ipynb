{
 "cells": [
  {
   "cell_type": "code",
   "execution_count": 1,
   "metadata": {},
   "outputs": [
    {
     "data": {
      "text/plain": [
       "{(-1, -1), (-1, 0), (-1, 1), (0, -1), (0, 0), (0, 1), (1, -1), (1, 0), (1, 1)}"
      ]
     },
     "execution_count": 1,
     "metadata": {},
     "output_type": "execute_result"
    }
   ],
   "source": [
    "P = {(x, y) for x in [-1, 0, 1] for y in [-1, 0, 1]}\n",
    "P"
   ]
  },
  {
   "cell_type": "markdown",
   "metadata": {},
   "source": [
    "points_avaidable_from_point = {\n",
    "p1: get_points_avaidable_from_point(p1) for p1 in P}"
   ]
  },
  {
   "cell_type": "code",
   "execution_count": 2,
   "metadata": {},
   "outputs": [
    {
     "data": {
      "text/plain": [
       "{(-1, 0), (-1, 1), (0, -1), (0, 0), (0, 1), (1, 0)}"
      ]
     },
     "execution_count": 2,
     "metadata": {},
     "output_type": "execute_result"
    }
   ],
   "source": [
    "def distance(p1, p2):\n",
    "    from math import hypot\n",
    "    return hypot(p1[0] - p2[0], p1[1] - p2[1])\n",
    "\n",
    "\n",
    "def is_point_between_two_points(p3, p1, p2):\n",
    "    return distance(p3, p1) + distance(p3, p2) == distance(p1, p2)\n",
    "\n",
    "\n",
    "def get_points_avaidable_from_point(p1):\n",
    "    return {p2 for p2 in P if not is_point_between(p1, p2)}\n",
    "\n",
    "\n",
    "def is_point_between(p1, p2):\n",
    "    return any({is_point_between_two_points(p3, p1, p2)\n",
    "                for p3 in P if p3 != p1 if p3 != p2\n",
    "                })\n",
    "\n",
    "\n",
    "points_avaidable_from_point = {\n",
    "    p1: get_points_avaidable_from_point(p1) for p1 in P\n",
    "}\n",
    "points_avaidable_from_point[(-1, 1)]"
   ]
  },
  {
   "cell_type": "markdown",
   "metadata": {},
   "source": [
    "Example path"
   ]
  },
  {
   "cell_type": "code",
   "execution_count": 3,
   "metadata": {},
   "outputs": [
    {
     "data": {
      "text/plain": [
       "{(-1, 0), (0, -1), (0, 1), (1, 0)}"
      ]
     },
     "execution_count": 3,
     "metadata": {},
     "output_type": "execute_result"
    }
   ],
   "source": [
    "path = [(0, 0), (-1, 1)]\n",
    "last_in_path = path[-1]\n",
    "avaidable_points = set(filter(\n",
    "    lambda point: point not in path,\n",
    "    points_avaidable_from_point[last_in_path]))\n",
    "avaidable_points"
   ]
  },
  {
   "cell_type": "markdown",
   "metadata": {},
   "source": [
    "Backtracking to find the longest length of path and\n",
    "all path with the longest length"
   ]
  },
  {
   "cell_type": "code",
   "execution_count": null,
   "metadata": {},
   "outputs": [],
   "source": []
  }
 ],
 "metadata": {
  "kernelspec": {
   "display_name": "Python 3.10.8 64-bit",
   "language": "python",
   "name": "python3"
  },
  "language_info": {
   "codemirror_mode": {
    "name": "ipython",
    "version": 3
   },
   "file_extension": ".py",
   "mimetype": "text/x-python",
   "name": "python",
   "nbconvert_exporter": "python",
   "pygments_lexer": "ipython3",
   "version": "3.10.8"
  },
  "orig_nbformat": 4,
  "vscode": {
   "interpreter": {
    "hash": "107d7b120a5b68773a87d4067e673630b35702e55ebab3138143d08b1c4d7cbc"
   }
  }
 },
 "nbformat": 4,
 "nbformat_minor": 2
}
